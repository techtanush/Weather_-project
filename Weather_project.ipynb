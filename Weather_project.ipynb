{
  "nbformat": 4,
  "nbformat_minor": 0,
  "metadata": {
    "colab": {
      "name": "Weather_project.ipynb",
      "provenance": [],
      "authorship_tag": "ABX9TyP18HdlsprIEpp3rqzAGnw4",
      "include_colab_link": true
    },
    "kernelspec": {
      "name": "python3",
      "display_name": "Python 3"
    },
    "language_info": {
      "name": "python"
    }
  },
  "cells": [
    {
      "cell_type": "markdown",
      "metadata": {
        "id": "view-in-github",
        "colab_type": "text"
      },
      "source": [
        "<a href=\"https://colab.research.google.com/github/techtanush/Weather_-project/blob/main/Weather_project.ipynb\" target=\"_parent\"><img src=\"https://colab.research.google.com/assets/colab-badge.svg\" alt=\"Open In Colab\"/></a>"
      ]
    },
    {
      "cell_type": "code",
      "metadata": {
        "id": "KfElt60qqohM"
      },
      "source": [
        "import tkinter\n",
        "import requests\n",
        "from tkinter import *\n",
        "from tkinter import messagebox\n",
        "from configparser import ConfigParser\n",
        "\n",
        "url = \"http://api.openweathermap.org/data/2.5/weather?q={}&appid={}\"\n",
        "config_file = \"weather.api\"\n",
        "config = ConfigParser()\n",
        "config.read(config_file)\n",
        "api_key = config[\"api_key\"][\"key\"]\n",
        "\n",
        "def get_weather(city):\n",
        "    result = requests.get(url.format(city,api_key))\n",
        "    if result:\n",
        "        json = result.json()\n",
        "        city = json[\"name\"]\n",
        "        country = json[\"sys\"][\"country\"]\n",
        "        temperature = json[\"main\"][\"temp\"]\n",
        "        temperature_celsius = temperature - 273.15\n",
        "        temperature_farenheit =(temperature - 273.15) * 9/5 + 32\n",
        "        weather = json[\"weather\"][0][\"main\"]\n",
        "        final = (city, country, temperature_celsius, temperature_farenheit, weather)\n",
        "        return final\n",
        "    else:\n",
        "        return(\"none\")\n",
        "# print(get_weather(\"Las vegas\"))\n",
        "\n",
        "def search():\n",
        "    city = city_text.get()\n",
        "    weather = get_weather(city)\n",
        "    if weather:\n",
        "        location_label[\"text\"] = \"{} {}\".format(weather[0], weather[1])\n",
        "        temperature_label[\"text\"] = \"{} {}\".format(weather[2], weather[3])\n",
        "        weather_label[\"text\"] = weather[4]\n",
        "\n",
        "\n",
        "a = Tk()\n",
        "a.title(\"Weather project\")\n",
        "a.geometry(\"700x400\")\n",
        "\n",
        "city_text = StringVar()\n",
        "city_entry = Entry(a, textvariable = city_text, highlightbackground = \"yellow\", font = (\"Arial\", 30, \"bold\"))\n",
        "city_entry.pack()\n",
        "\n",
        "search_Button = Button(a, text = \"search weather\", font = (\"Arial\", 30, \"bold\"), highlightbackground = \"red\", width = 20, command = search)\n",
        "search_Button.pack()\n",
        "location_label = Label(a, text = \"\", font = (\"Arial\", 30, \"italic\"))\n",
        "location_label.pack()\n",
        "temperature_label = Label(a, text = \"\", font = (\"Arial\", 30, \"italic\"))\n",
        "temperature_label.pack()\n",
        "weather_label = Label(a, text = \"\", font = (\"Arial\", 30, \"italic\"))\n",
        "weather_label.pack()\n",
        "\n",
        "a.mainloop()"
      ],
      "execution_count": null,
      "outputs": []
    }
  ]
}